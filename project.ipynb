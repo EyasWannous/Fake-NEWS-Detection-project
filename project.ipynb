{
 "cells": [
  {
   "cell_type": "code",
   "execution_count": 76,
   "id": "c4adb9e2",
   "metadata": {
    "scrolled": true
   },
   "outputs": [],
   "source": [
    "import numpy as np\n",
    "import pandas as pd\n",
    "import tensorflow as tf\n",
    "from tensorflow import keras\n",
    "from tensorflow.keras.preprocessing.text import Tokenizer\n",
    "from tensorflow.keras.preprocessing.sequence import pad_sequences"
   ]
  },
  {
   "cell_type": "code",
   "execution_count": 77,
   "id": "d1433253",
   "metadata": {},
   "outputs": [],
   "source": [
    "# ps = PorterStemmer()\n",
    "\n",
    "# def process_title(title):\n",
    "#     new_title = title.lower()\n",
    "#     new_title = re.sub(r'\\$[^\\s]+', 'dollar', new_title)\n",
    "#     new_title = re.sub(r'[^a-z0-9\\s]', '', new_title)\n",
    "#     new_title = re.sub(r'[0-9]+', 'number', new_title)\n",
    "#     new_title = new_title.split(\" \")\n",
    "#     new_title = list(map(lambda x: ps.stem(x), new_title))\n",
    "#     new_title = list(map(lambda x: x.strip(), new_title))\n",
    "#     if '' in new_title:\n",
    "#         new_title.remove('')\n",
    "#     return new_title"
   ]
  },
  {
   "cell_type": "code",
   "execution_count": 78,
   "id": "02626103",
   "metadata": {
    "scrolled": false
   },
   "outputs": [],
   "source": [
    "train=pd.read_csv('Dataset/train.csv')\n",
    "test=pd.read_csv('Dataset/test.csv')\n",
    "y_test=pd.read_csv('Dataset/submit.csv')\n"
   ]
  },
  {
   "cell_type": "code",
   "execution_count": 79,
   "id": "e8ff97ad",
   "metadata": {},
   "outputs": [
    {
     "name": "stdout",
     "output_type": "stream",
     "text": [
      "(20800,)\n",
      "(20800, 1)\n"
     ]
    }
   ],
   "source": [
    "#Initializ y_train and x_train\n",
    "train['text_merge'] = train['title'].astype(str) + ' ' + train['author'].astype(str) + ' ' + train['text'].astype(str)\n",
    "x_train = train['text_merge']\n",
    "y_train = train.drop(['id','title','author','text','text_merge'],axis=1)\n",
    "y_train = np.array(y_train)\n",
    "print(x_train.shape)\n",
    "print(y_train.shape)"
   ]
  },
  {
   "cell_type": "code",
   "execution_count": 80,
   "id": "e7c5cfd5",
   "metadata": {},
   "outputs": [
    {
     "data": {
      "text/plain": [
       "0       Specter of Trump Loosens Tongues, if Not Purse...\n",
       "1       Russian warships ready to strike terrorists ne...\n",
       "2       #NoDAPL: Native American Leaders Vow to Stay A...\n",
       "3       Tim Tebow Will Attempt Another Comeback, This ...\n",
       "4       Keiser Report: Meme Wars (E995) Truth Broadcas...\n",
       "                              ...                        \n",
       "5195    The Bangladeshi Traffic Jam That Never Ends - ...\n",
       "5196    John Kasich Signs One Abortion Bill in Ohio bu...\n",
       "5197    California Today: What, Exactly, Is in Your Su...\n",
       "5198    300 US Marines To Be Deployed To Russian Borde...\n",
       "5199    Awkward Sex, Onscreen and Off - The New York T...\n",
       "Name: text_merge, Length: 5200, dtype: object"
      ]
     },
     "execution_count": 80,
     "metadata": {},
     "output_type": "execute_result"
    }
   ],
   "source": [
    "#Initializ y_test and x_test\n",
    "test['text_merge'] = test['title'].astype(str) + ' ' + test['author'].astype(str) + ' ' + test['text'].astype(str)\n",
    "x_test = test['text_merge']\n",
    "y_test = y_test.drop(['id'],axis=1)\n",
    "y_test = np.array(y_test)\n",
    "x_test"
   ]
  },
  {
   "cell_type": "code",
   "execution_count": 81,
   "id": "b26b7138",
   "metadata": {},
   "outputs": [
    {
     "name": "stdout",
     "output_type": "stream",
     "text": [
      "[[  130  5169  2273 ...     0     0     0]\n",
      " [ 2468   111    70 ...     0     0     0]\n",
      " [  205     2   720 ...     0     0     0]\n",
      " ...\n",
      " [10049     9    18 ...     0     0     0]\n",
      " [ 1054   178     3 ...     0     0     0]\n",
      " [   55  3272     2 ...     0     0     0]]\n",
      "(20800, 10000)\n",
      "(5200, 18654)\n"
     ]
    },
    {
     "data": {
      "text/plain": [
       "array([[11142,     4,    36, ...,     0,     0,     0],\n",
       "       [  223,  9296,  1265, ...,     0,     0,     0],\n",
       "       [11274,  1676,    96, ...,     0,     0,     0],\n",
       "       ...,\n",
       "       [  511,   321,    55, ...,     0,     0,     0],\n",
       "       [ 1856,    80,  6364, ...,     0,     0,     0],\n",
       "       [ 6812,  1115, 15373, ...,     0,     0,     0]])"
      ]
     },
     "execution_count": 81,
     "metadata": {},
     "output_type": "execute_result"
    }
   ],
   "source": [
    "# x_train_list = x_train.tolist()\n",
    "tokenizer=Tokenizer(oov_token=\"<OOV>\")\n",
    "tokenizer.fit_on_texts(x_train)\n",
    "word_index=tokenizer.word_index\n",
    "sequences_train = tokenizer.texts_to_sequences(x_train)\n",
    "X_train = pad_sequences(sequences_train,maxlen=10000,truncating='post',padding='post')\n",
    "sequences_test = tokenizer.texts_to_sequences(x_test)\n",
    "X_test = pad_sequences(sequences_test,maxlen=10000,padding='post',truncating='post')\n",
    "# print(sequences_test)\n",
    "# print(word_index)\n",
    "print(X_train)\n",
    "print(X_train.shape)\n",
    "print(X_test.shape)\n",
    "X_test"
   ]
  }
 ],
 "metadata": {
  "kernelspec": {
   "display_name": "Python 3 (ipykernel)",
   "language": "python",
   "name": "python3"
  },
  "language_info": {
   "codemirror_mode": {
    "name": "ipython",
    "version": 3
   },
   "file_extension": ".py",
   "mimetype": "text/x-python",
   "name": "python",
   "nbconvert_exporter": "python",
   "pygments_lexer": "ipython3",
   "version": "3.11.6"
  }
 },
 "nbformat": 4,
 "nbformat_minor": 5
}
